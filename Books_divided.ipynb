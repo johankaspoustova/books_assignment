{
 "cells": [
  {
   "cell_type": "markdown",
   "id": "1f216fe7",
   "metadata": {},
   "source": [
    "<h1>Books assignment</h1>"
   ]
  },
  {
   "cell_type": "code",
   "execution_count": 100,
   "id": "c6750ad2",
   "metadata": {},
   "outputs": [],
   "source": [
    "import numpy as np \n",
    "import pandas as pd \n",
    "import os"
   ]
  },
  {
   "cell_type": "markdown",
   "id": "b62d71d4",
   "metadata": {},
   "source": [
    "<h3>Reading data</h3>"
   ]
  },
  {
   "cell_type": "code",
   "execution_count": 101,
   "id": "17c95fbd",
   "metadata": {
    "scrolled": true
   },
   "outputs": [
    {
     "data": {
      "text/html": [
       "<div>\n",
       "<style scoped>\n",
       "    .dataframe tbody tr th:only-of-type {\n",
       "        vertical-align: middle;\n",
       "    }\n",
       "\n",
       "    .dataframe tbody tr th {\n",
       "        vertical-align: top;\n",
       "    }\n",
       "\n",
       "    .dataframe thead th {\n",
       "        text-align: right;\n",
       "    }\n",
       "</style>\n",
       "<table border=\"1\" class=\"dataframe\">\n",
       "  <thead>\n",
       "    <tr style=\"text-align: right;\">\n",
       "      <th></th>\n",
       "      <th>User-ID</th>\n",
       "      <th>ISBN</th>\n",
       "      <th>Book-Rating</th>\n",
       "    </tr>\n",
       "  </thead>\n",
       "  <tbody>\n",
       "    <tr>\n",
       "      <th>0</th>\n",
       "      <td>276726</td>\n",
       "      <td>0155061224</td>\n",
       "      <td>5</td>\n",
       "    </tr>\n",
       "    <tr>\n",
       "      <th>1</th>\n",
       "      <td>276729</td>\n",
       "      <td>052165615</td>\n",
       "      <td>3</td>\n",
       "    </tr>\n",
       "    <tr>\n",
       "      <th>2</th>\n",
       "      <td>276729</td>\n",
       "      <td>0521795028</td>\n",
       "      <td>6</td>\n",
       "    </tr>\n",
       "    <tr>\n",
       "      <th>3</th>\n",
       "      <td>276736</td>\n",
       "      <td>3257224281</td>\n",
       "      <td>8</td>\n",
       "    </tr>\n",
       "    <tr>\n",
       "      <th>4</th>\n",
       "      <td>276737</td>\n",
       "      <td>0600570967</td>\n",
       "      <td>6</td>\n",
       "    </tr>\n",
       "  </tbody>\n",
       "</table>\n",
       "</div>"
      ],
      "text/plain": [
       "   User-ID        ISBN  Book-Rating\n",
       "0   276726  0155061224            5\n",
       "1   276729   052165615            3\n",
       "2   276729  0521795028            6\n",
       "3   276736  3257224281            8\n",
       "4   276737  0600570967            6"
      ]
     },
     "execution_count": 101,
     "metadata": {},
     "output_type": "execute_result"
    }
   ],
   "source": [
    "path_ratings=\"~/ukol/BX-Book-Ratings-nonzero.csv\"\n",
    "df_ratings=pd.read_csv(path_ratings, on_bad_lines=\"warn\", delimiter=\";\", encoding = \"ISO-8859-1\")\n",
    "df_ratings.dropna()\n",
    "df_ratings['ISBN'] = df_ratings['ISBN'].str.replace('[^\\d]', '', regex=True)  # ISBN mess\n",
    "\n",
    "df_ratings.head()"
   ]
  },
  {
   "cell_type": "code",
   "execution_count": 102,
   "id": "342bebfb",
   "metadata": {},
   "outputs": [
    {
     "data": {
      "text/html": [
       "<div>\n",
       "<style scoped>\n",
       "    .dataframe tbody tr th:only-of-type {\n",
       "        vertical-align: middle;\n",
       "    }\n",
       "\n",
       "    .dataframe tbody tr th {\n",
       "        vertical-align: top;\n",
       "    }\n",
       "\n",
       "    .dataframe thead th {\n",
       "        text-align: right;\n",
       "    }\n",
       "</style>\n",
       "<table border=\"1\" class=\"dataframe\">\n",
       "  <thead>\n",
       "    <tr style=\"text-align: right;\">\n",
       "      <th></th>\n",
       "      <th>User-ID</th>\n",
       "      <th>ISBN</th>\n",
       "      <th>Book-Rating</th>\n",
       "    </tr>\n",
       "  </thead>\n",
       "  <tbody>\n",
       "    <tr>\n",
       "      <th>1</th>\n",
       "      <td>276729</td>\n",
       "      <td>052165615</td>\n",
       "      <td>3</td>\n",
       "    </tr>\n",
       "    <tr>\n",
       "      <th>2</th>\n",
       "      <td>276729</td>\n",
       "      <td>0521795028</td>\n",
       "      <td>6</td>\n",
       "    </tr>\n",
       "    <tr>\n",
       "      <th>7</th>\n",
       "      <td>276747</td>\n",
       "      <td>0060517794</td>\n",
       "      <td>9</td>\n",
       "    </tr>\n",
       "    <tr>\n",
       "      <th>8</th>\n",
       "      <td>276747</td>\n",
       "      <td>0671537458</td>\n",
       "      <td>9</td>\n",
       "    </tr>\n",
       "    <tr>\n",
       "      <th>9</th>\n",
       "      <td>276747</td>\n",
       "      <td>0679776818</td>\n",
       "      <td>8</td>\n",
       "    </tr>\n",
       "  </tbody>\n",
       "</table>\n",
       "</div>"
      ],
      "text/plain": [
       "   User-ID        ISBN  Book-Rating\n",
       "1   276729   052165615            3\n",
       "2   276729  0521795028            6\n",
       "7   276747  0060517794            9\n",
       "8   276747  0671537458            9\n",
       "9   276747  0679776818            8"
      ]
     },
     "execution_count": 102,
     "metadata": {},
     "output_type": "execute_result"
    }
   ],
   "source": [
    "# removing users rating only one book\n",
    "# we may or may not use this (depends on expected changes in the database)\n",
    "\n",
    "df_ratings = df_ratings.loc[df_ratings.duplicated(subset='User-ID', keep=False), :]\n",
    "df_ratings.head()"
   ]
  },
  {
   "cell_type": "code",
   "execution_count": 103,
   "id": "e9853da1",
   "metadata": {},
   "outputs": [
    {
     "data": {
      "text/html": [
       "<div>\n",
       "<style scoped>\n",
       "    .dataframe tbody tr th:only-of-type {\n",
       "        vertical-align: middle;\n",
       "    }\n",
       "\n",
       "    .dataframe tbody tr th {\n",
       "        vertical-align: top;\n",
       "    }\n",
       "\n",
       "    .dataframe thead th {\n",
       "        text-align: right;\n",
       "    }\n",
       "</style>\n",
       "<table border=\"1\" class=\"dataframe\">\n",
       "  <thead>\n",
       "    <tr style=\"text-align: right;\">\n",
       "      <th></th>\n",
       "      <th>User-ID</th>\n",
       "      <th>ISBN</th>\n",
       "      <th>Book-Rating</th>\n",
       "    </tr>\n",
       "  </thead>\n",
       "  <tbody>\n",
       "    <tr>\n",
       "      <th>0</th>\n",
       "      <td>276725</td>\n",
       "      <td>034545104X</td>\n",
       "      <td>0</td>\n",
       "    </tr>\n",
       "    <tr>\n",
       "      <th>1</th>\n",
       "      <td>276727</td>\n",
       "      <td>0446520802</td>\n",
       "      <td>0</td>\n",
       "    </tr>\n",
       "    <tr>\n",
       "      <th>2</th>\n",
       "      <td>276733</td>\n",
       "      <td>2080674722</td>\n",
       "      <td>0</td>\n",
       "    </tr>\n",
       "    <tr>\n",
       "      <th>3</th>\n",
       "      <td>276746</td>\n",
       "      <td>0425115801</td>\n",
       "      <td>0</td>\n",
       "    </tr>\n",
       "    <tr>\n",
       "      <th>4</th>\n",
       "      <td>276746</td>\n",
       "      <td>0449006522</td>\n",
       "      <td>0</td>\n",
       "    </tr>\n",
       "  </tbody>\n",
       "</table>\n",
       "</div>"
      ],
      "text/plain": [
       "   User-ID        ISBN  Book-Rating\n",
       "0   276725  034545104X            0\n",
       "1   276727  0446520802            0\n",
       "2   276733  2080674722            0\n",
       "3   276746  0425115801            0\n",
       "4   276746  0449006522            0"
      ]
     },
     "execution_count": 103,
     "metadata": {},
     "output_type": "execute_result"
    }
   ],
   "source": [
    "path_interact=\"~/ukol/BX-Book-Ratings-zero.csv\"\n",
    "df_interact=pd.read_csv(path_interact, on_bad_lines=\"warn\", delimiter=\";\", encoding = \"ISO-8859-1\")\n",
    "df_interact.dropna()\n",
    "#df_interact['ISBN'] = df_interact['ISBN'].str.replace('[^\\d]', '', regex=True)  # ISBN mess\n",
    "df_interact.head()"
   ]
  },
  {
   "cell_type": "code",
   "execution_count": 105,
   "id": "2bc93815",
   "metadata": {},
   "outputs": [
    {
     "data": {
      "text/html": [
       "<div>\n",
       "<style scoped>\n",
       "    .dataframe tbody tr th:only-of-type {\n",
       "        vertical-align: middle;\n",
       "    }\n",
       "\n",
       "    .dataframe tbody tr th {\n",
       "        vertical-align: top;\n",
       "    }\n",
       "\n",
       "    .dataframe thead th {\n",
       "        text-align: right;\n",
       "    }\n",
       "</style>\n",
       "<table border=\"1\" class=\"dataframe\">\n",
       "  <thead>\n",
       "    <tr style=\"text-align: right;\">\n",
       "      <th></th>\n",
       "      <th>User-ID</th>\n",
       "      <th>ISBN</th>\n",
       "      <th>Book-Rating</th>\n",
       "    </tr>\n",
       "  </thead>\n",
       "  <tbody>\n",
       "    <tr>\n",
       "      <th>3</th>\n",
       "      <td>276746</td>\n",
       "      <td>0425115801</td>\n",
       "      <td>0</td>\n",
       "    </tr>\n",
       "    <tr>\n",
       "      <th>4</th>\n",
       "      <td>276746</td>\n",
       "      <td>0449006522</td>\n",
       "      <td>0</td>\n",
       "    </tr>\n",
       "    <tr>\n",
       "      <th>5</th>\n",
       "      <td>276746</td>\n",
       "      <td>0553561618</td>\n",
       "      <td>0</td>\n",
       "    </tr>\n",
       "    <tr>\n",
       "      <th>6</th>\n",
       "      <td>276746</td>\n",
       "      <td>055356451X</td>\n",
       "      <td>0</td>\n",
       "    </tr>\n",
       "    <tr>\n",
       "      <th>7</th>\n",
       "      <td>276746</td>\n",
       "      <td>0786013990</td>\n",
       "      <td>0</td>\n",
       "    </tr>\n",
       "  </tbody>\n",
       "</table>\n",
       "</div>"
      ],
      "text/plain": [
       "   User-ID        ISBN  Book-Rating\n",
       "3   276746  0425115801            0\n",
       "4   276746  0449006522            0\n",
       "5   276746  0553561618            0\n",
       "6   276746  055356451X            0\n",
       "7   276746  0786013990            0"
      ]
     },
     "execution_count": 105,
     "metadata": {},
     "output_type": "execute_result"
    }
   ],
   "source": [
    "# removing users interacting with only one book\n",
    "# we may or may not use this (depends on expected changes in the database)\n",
    "\n",
    "df_interact = df_interact.loc[df_interact.duplicated(subset='User-ID', keep=False), :] # remove unique users\n",
    "df_interact.head()"
   ]
  },
  {
   "cell_type": "code",
   "execution_count": 106,
   "id": "bdb08223",
   "metadata": {},
   "outputs": [],
   "source": [
    "# auxiliary\n",
    "\n",
    "#df_interact.describe()\n",
    "#df_interact.shape\n",
    "#df_interact.info()\n",
    "#df_interact.dtypes\n",
    "\n",
    "#df_ratings.describe()\n",
    "#df_ratings.shape\n",
    "#df_ratings.info()\n",
    "#df_ratings.dtypes"
   ]
  },
  {
   "cell_type": "code",
   "execution_count": 107,
   "id": "51766265",
   "metadata": {},
   "outputs": [
    {
     "data": {
      "text/html": [
       "<div>\n",
       "<style scoped>\n",
       "    .dataframe tbody tr th:only-of-type {\n",
       "        vertical-align: middle;\n",
       "    }\n",
       "\n",
       "    .dataframe tbody tr th {\n",
       "        vertical-align: top;\n",
       "    }\n",
       "\n",
       "    .dataframe thead th {\n",
       "        text-align: right;\n",
       "    }\n",
       "</style>\n",
       "<table border=\"1\" class=\"dataframe\">\n",
       "  <thead>\n",
       "    <tr style=\"text-align: right;\">\n",
       "      <th></th>\n",
       "      <th>ISBN</th>\n",
       "      <th>Book-Title</th>\n",
       "      <th>Book-Author</th>\n",
       "    </tr>\n",
       "  </thead>\n",
       "  <tbody>\n",
       "    <tr>\n",
       "      <th>0</th>\n",
       "      <td>0195153448</td>\n",
       "      <td>Classical Mythology</td>\n",
       "      <td>Mark P. O. Morford</td>\n",
       "    </tr>\n",
       "    <tr>\n",
       "      <th>1</th>\n",
       "      <td>0002005018</td>\n",
       "      <td>Clara Callan</td>\n",
       "      <td>Richard Bruce Wright</td>\n",
       "    </tr>\n",
       "    <tr>\n",
       "      <th>2</th>\n",
       "      <td>0060973129</td>\n",
       "      <td>Decision in Normandy</td>\n",
       "      <td>Carlo D'Este</td>\n",
       "    </tr>\n",
       "    <tr>\n",
       "      <th>3</th>\n",
       "      <td>0374157065</td>\n",
       "      <td>Flu: The Story of the Great Influenza Pandemic...</td>\n",
       "      <td>Gina Bari Kolata</td>\n",
       "    </tr>\n",
       "    <tr>\n",
       "      <th>4</th>\n",
       "      <td>0393045218</td>\n",
       "      <td>The Mummies of Urumchi</td>\n",
       "      <td>E. J. W. Barber</td>\n",
       "    </tr>\n",
       "  </tbody>\n",
       "</table>\n",
       "</div>"
      ],
      "text/plain": [
       "         ISBN                                         Book-Title  \\\n",
       "0  0195153448                                Classical Mythology   \n",
       "1  0002005018                                       Clara Callan   \n",
       "2  0060973129                               Decision in Normandy   \n",
       "3  0374157065  Flu: The Story of the Great Influenza Pandemic...   \n",
       "4  0393045218                             The Mummies of Urumchi   \n",
       "\n",
       "            Book-Author  \n",
       "0    Mark P. O. Morford  \n",
       "1  Richard Bruce Wright  \n",
       "2          Carlo D'Este  \n",
       "3      Gina Bari Kolata  \n",
       "4       E. J. W. Barber  "
      ]
     },
     "execution_count": 107,
     "metadata": {},
     "output_type": "execute_result"
    }
   ],
   "source": [
    "path_books=\"~/ukol/BX-Books.csv\"\n",
    "df_books=pd.read_csv(path_books, on_bad_lines=\"skip\", delimiter=\";\", encoding = \"ISO-8859-1\", dtype={\"ISBN\": \"string\", \"Year-Of-Publication\": \"string\"})\n",
    "df_books.dropna()\n",
    "df_books['ISBN'] = df_books['ISBN'].str.replace('[^\\d]', '', regex=True)\n",
    "df_books = df_books.drop_duplicates(subset='ISBN')\n",
    "df_books_shorter = df_books.drop(['Publisher','Image-URL-S','Image-URL-M','Image-URL-L','Year-Of-Publication'],axis=1)\n",
    "df_books_shorter.head(5)"
   ]
  },
  {
   "cell_type": "markdown",
   "id": "17cf51e7",
   "metadata": {},
   "source": [
    "<h3>Functions definitions<h3>"
   ]
  },
  {
   "cell_type": "code",
   "execution_count": 108,
   "id": "0e6eb133",
   "metadata": {},
   "outputs": [],
   "source": [
    "# looking up the book's full book\n",
    "def full_name(isbn):\n",
    "    book_name = df_books_shorter[df_books_shorter['ISBN']==isbn]['Book-Title']\n",
    "    book_author = df_books_shorter[df_books_shorter['ISBN']==isbn]['Book-Author']\n",
    "    if ((book_name.empty) or (book_author.empty)):\n",
    "        return \"\", \"\"\n",
    "    else:\n",
    "        return book_name.iloc[0], book_author.iloc[0]"
   ]
  },
  {
   "cell_type": "code",
   "execution_count": 109,
   "id": "d3a9197a",
   "metadata": {},
   "outputs": [
    {
     "name": "stdout",
     "output_type": "stream",
     "text": [
      "You should read Clara Callan written by Richard Bruce Wright.\n"
     ]
    }
   ],
   "source": [
    "# improvised test for full_name\n",
    "bn, ba = full_name(\"0002005018\")\n",
    "# should return Clara Callan, Richard Bruce Wright\n",
    "#bn, ba = full_name(\"bleble\")\n",
    "# should return empty strings\n",
    "if (bn and ba):\n",
    "    print(\"You should read {} written by {}.\".format(bn, ba))\n",
    "\n"
   ]
  },
  {
   "cell_type": "markdown",
   "id": "bf3e742d",
   "metadata": {},
   "source": [
    "<h4>Building dictionaries</h4>"
   ]
  },
  {
   "cell_type": "code",
   "execution_count": 111,
   "id": "33a850b6",
   "metadata": {},
   "outputs": [],
   "source": [
    "# building dictionaries of users' interactions with books (rating 0)\n",
    "def build_dictionary_seen(df_interact):\n",
    "    users = {}\n",
    "    books = {}\n",
    "    for index, row in df_interact.iterrows():\n",
    "        user = row['User-ID']\n",
    "        isbn = row['ISBN']\n",
    "        if (user in users.keys()):\n",
    "            users[user].append(isbn)\n",
    "        else:\n",
    "            users[user] = [isbn]\n",
    "        if (isbn in books.keys()):\n",
    "            books[isbn].append(user)\n",
    "        else:\n",
    "            books[isbn] = [user]\n",
    "    return books, users\n",
    "        "
   ]
  },
  {
   "cell_type": "code",
   "execution_count": 112,
   "id": "fc60e7bf",
   "metadata": {},
   "outputs": [],
   "source": [
    "# building dictionaries of high book ratings (not preserving the acual ratings)\n",
    "# currently used with min_rating = 8\n",
    "def build_dictionary_ratings_amount(min_rating, df_ratings):\n",
    "    users = {}\n",
    "    books = {}\n",
    "    for index, row in df_ratings.iterrows():\n",
    "        user = row['User-ID']\n",
    "        isbn = row['ISBN']\n",
    "        rating = row['Book-Rating']\n",
    "        if rating >= min_rating:\n",
    "            if (user in users.keys()):\n",
    "                users[user].append(isbn)\n",
    "            else:\n",
    "                users[user] = [isbn]\n",
    "            if (isbn in books.keys()):\n",
    "                books[isbn].append(user)\n",
    "            else:\n",
    "                books[isbn] = [user]\n",
    "    return books, users\n",
    "        "
   ]
  },
  {
   "cell_type": "code",
   "execution_count": 113,
   "id": "d86eb245",
   "metadata": {},
   "outputs": [],
   "source": [
    "# building dictionaries containing ratings with values\n",
    "# currently not used\n",
    "def build_dictionary_ratings_values(df_ratings):\n",
    "    users = {}\n",
    "    books = {}\n",
    "    for index, row in df_ratings.iterrows():\n",
    "        user = row['User-ID']\n",
    "        isbn = row['ISBN']\n",
    "        rating = row['Book-Rating']\n",
    "        \n",
    "        if (user in users.keys()):\n",
    "            users[user].append((isbn, rating))\n",
    "        else:\n",
    "            users[user] = [(isbn, rating)]\n",
    "            if (isbn in books.keys()):\n",
    "                books[isbn].append((user, rating))\n",
    "            else:\n",
    "                books[isbn] = [(user, rating)]\n",
    "    return books, users\n",
    "            "
   ]
  },
  {
   "cell_type": "markdown",
   "id": "2ed7ef8e",
   "metadata": {},
   "source": [
    "<h4>Recommendation fuctions</h4>"
   ]
  },
  {
   "cell_type": "code",
   "execution_count": 114,
   "id": "ccd3087b",
   "metadata": {},
   "outputs": [],
   "source": [
    "# used both for interaction and high ratings\n",
    "def recomm_dict_without_ratings(books, users, isbn):\n",
    "    videli_taky = {}\n",
    "    if isbn in books.keys():\n",
    "        videli_to = books[isbn]\n",
    "        for user in videli_to:\n",
    "            if user in users.keys():     # check cause he might have been removed for evaluating\n",
    "                for book in users[user]:\n",
    "                    if book != isbn:         # not contain book from the initial question\n",
    "                        if (book in videli_taky.keys()):\n",
    "                            videli_taky[book] += 1\n",
    "                        else: \n",
    "                            videli_taky[book] = 1\n",
    "    else:    \n",
    "        print(\"Insufficient data for a reliable recommendation. Your taste is unique.\")\n",
    "                    \n",
    "    return videli_taky"
   ]
  },
  {
   "cell_type": "code",
   "execution_count": 115,
   "id": "55143670",
   "metadata": {},
   "outputs": [],
   "source": [
    "# used, but not used, for actual ratings\n",
    "def recomm_with_ratings(books, users, isbn, treshold):\n",
    "    videli_taky = {}\n",
    "    if isbn in books.keys():\n",
    "        videli_to = books[isbn]\n",
    "        for (user, rating) in videli_to:\n",
    "            if ((rating >= treshold) and (user in users.keys())):    \n",
    "                                             # check cause he might have been removed for evaluating\n",
    "                for (book, rating2) in users[user]:\n",
    "                    if book != isbn:         # not contain book from the initial question\n",
    "                        if (book in videli_taky.keys()):\n",
    "                            videli_taky[book].append(rating2)\n",
    "                        else: \n",
    "                            videli_taky[book] = [rating2]\n",
    "    else:    \n",
    "        print(\"Insufficient data for a reliable recommendation. Your taste is unique.\")\n",
    "                    \n",
    "    return videli_taky"
   ]
  },
  {
   "cell_type": "markdown",
   "id": "81eb89d4",
   "metadata": {},
   "source": [
    "<h4>Formatting output</h4>"
   ]
  },
  {
   "cell_type": "code",
   "execution_count": 116,
   "id": "ec12aac4",
   "metadata": {},
   "outputs": [],
   "source": [
    "# used both for interaction and high ratings\n",
    "def written_output(sorted_recom, what_did, max_recommendations, reasonable_amount):\n",
    "    i = 0\n",
    "    for item in sorted_recom:\n",
    "        isbn = item[0]\n",
    "        pocet_lidi = item[1]\n",
    "        if ((int(pocet_lidi) >= reasonable_amount) and (i < max_recommendations)):\n",
    "            #print (\"jsem uvnitr\")\n",
    "            bname, bauthor = full_name(isbn)\n",
    "            if (bname and bauthor):            \n",
    "                print(\"You should read {} written by {} ({} {}).\".format(bname, bauthor, pocet_lidi, what_did))\n",
    "                i+=1"
   ]
  },
  {
   "cell_type": "markdown",
   "id": "667977c5",
   "metadata": {},
   "source": [
    "<h3>Runtime</h3>"
   ]
  },
  {
   "cell_type": "markdown",
   "id": "a77712de",
   "metadata": {},
   "source": [
    "<h4>Building dictionaries</h4>"
   ]
  },
  {
   "cell_type": "code",
   "execution_count": 117,
   "id": "d80c09c8",
   "metadata": {},
   "outputs": [],
   "source": [
    "seen_books, seen_users = build_dictionary_seen(df_interact)"
   ]
  },
  {
   "cell_type": "code",
   "execution_count": 118,
   "id": "9159de35",
   "metadata": {},
   "outputs": [],
   "source": [
    "min_rating = 8       # minimum rating taken into account\n",
    "rated_amount_books, rated_amount_users = build_dictionary_ratings_amount(min_rating, df_ratings)"
   ]
  },
  {
   "cell_type": "code",
   "execution_count": 86,
   "id": "afc30546",
   "metadata": {},
   "outputs": [],
   "source": [
    "# currently not used\n",
    "rated_values_books, rated_values_users = build_dictionary_ratings_values(df_ratings)"
   ]
  },
  {
   "cell_type": "markdown",
   "id": "554cf153",
   "metadata": {},
   "source": [
    "<h4>Calling various recommendation functions</h4>"
   ]
  },
  {
   "cell_type": "code",
   "execution_count": 120,
   "id": "82d59fb7",
   "metadata": {},
   "outputs": [
    {
     "name": "stdout",
     "output_type": "stream",
     "text": [
      "You should read The Two Towers (The Lord of the Rings, Part 2) written by J.R.R. TOLKIEN (40 people have seen).\n",
      "You should read The Return of the King (The Lord of the Rings, Part 3) written by J.R.R. TOLKIEN (39 people have seen).\n",
      "You should read Wild Animus written by Rich Shapero (23 people have seen).\n",
      "You should read A Time to Kill written by JOHN GRISHAM (21 people have seen).\n",
      "You should read The Pelican Brief written by John Grisham (21 people have seen).\n",
      "You should read The Hobbit : The Enchanting Prelude to The Lord of the Rings written by J.R.R. TOLKIEN (20 people have seen).\n",
      "You should read The Chamber written by John Grisham (14 people have seen).\n",
      "You should read The Joy Luck Club written by Amy Tan (14 people have seen).\n",
      "You should read Jurassic Park written by Michael Crichton (14 people have seen).\n",
      "You should read The Lovely Bones: A Novel written by Alice Sebold (14 people have seen).\n"
     ]
    }
   ],
   "source": [
    "# recommendation based on users who clicked on other books\n",
    "\n",
    "favourite_isbn = \"0345339703\"   #LOTR FOTR\n",
    "#favourite_isbn = \"0425115801\"   #random\n",
    "#isbn = \"bleble\"       # not throwing an error!\n",
    "recommend = recomm_dict_without_ratings(seen_books, seen_users, favourite_isbn)\n",
    "sorted_recom = sorted(recommend.items(), key=lambda x:x[1], reverse=True)\n",
    "\n",
    "max_recom = 10    # or 20, or...\n",
    "reasonable_amount = 5 # don't accept less people having seen this\n",
    "\n",
    "written_output(sorted_recom, \"people have seen\", max_recom, reasonable_amount)"
   ]
  },
  {
   "cell_type": "code",
   "execution_count": 122,
   "id": "7f92dad2",
   "metadata": {},
   "outputs": [
    {
     "name": "stdout",
     "output_type": "stream",
     "text": [
      "You should read The Return of the King (The Lord of the Rings, Part 3) written by J.R.R. TOLKIEN (34 people have highly rated).\n",
      "You should read The Two Towers (The Lord of the Rings, Part 2) written by J.R.R. TOLKIEN (33 people have highly rated).\n",
      "You should read The Hobbit : The Enchanting Prelude to The Lord of the Rings written by J.R.R. TOLKIEN (25 people have highly rated).\n",
      "You should read Harry Potter and the Sorcerer's Stone (Harry Potter (Paperback)) written by J. K. Rowling (10 people have highly rated).\n",
      "You should read The Da Vinci Code written by Dan Brown (7 people have highly rated).\n",
      "You should read Harry Potter and the Goblet of Fire (Book 4) written by J. K. Rowling (7 people have highly rated).\n",
      "You should read Harry Potter and the Chamber of Secrets (Book 2) written by J. K. Rowling (7 people have highly rated).\n",
      "You should read Harry Potter and the Order of the Phoenix (Book 5) written by J. K. Rowling (7 people have highly rated).\n",
      "You should read Harry Potter and the Prisoner of Azkaban (Book 3) written by J. K. Rowling (6 people have highly rated).\n",
      "You should read To Kill a Mockingbird written by Harper Lee (6 people have highly rated).\n"
     ]
    }
   ],
   "source": [
    "# recommendation based on amount of users who rated highly\n",
    "\n",
    "isbn = \"0345339703\"   #LOTR FOTR\n",
    "#favourite_isbn = \"0425115801\"   #random\n",
    "#isbn = \"bleble\"       # not throwing an error!\n",
    "recommend = recomm_dict_without_ratings(rated_amount_books, rated_amount_users, favourite_isbn)\n",
    "sorted_recom = sorted(recommend.items(), key=lambda x:x[1], reverse=True)\n",
    "\n",
    "max_recom = 10   # or 20, or...\n",
    "reasonable_amount = 3 # don't accept less people having rated this\n",
    "\n",
    "written_output(sorted_recom, \"people have highly rated\", max_recom, reasonable_amount)"
   ]
  },
  {
   "cell_type": "code",
   "execution_count": 90,
   "id": "af3da988",
   "metadata": {},
   "outputs": [],
   "source": [
    "# work in progress on recommendation with ratings\n",
    "# not straightforward how to sort\n",
    "\n",
    "#favourite_isbn = \"0345339703\"   #LOTR FOTR\n",
    "#favourite_isbn = \"0425115801\"   #random\n",
    "#isbn = \"bleble\"       # not throwing an error!\n",
    "\n",
    "#treshold = 7            # minimal rating for fellow readers\n",
    "#recommend = recomm_with_ratings(rated_values_books, rated_values_users, favourite_isbn, treshold)\n",
    "#print (recommend)\n"
   ]
  },
  {
   "cell_type": "code",
   "execution_count": null,
   "id": "c29f85aa",
   "metadata": {},
   "outputs": [],
   "source": []
  }
 ],
 "metadata": {
  "kernelspec": {
   "display_name": "Python 3 (ipykernel)",
   "language": "python",
   "name": "python3"
  },
  "language_info": {
   "codemirror_mode": {
    "name": "ipython",
    "version": 3
   },
   "file_extension": ".py",
   "mimetype": "text/x-python",
   "name": "python",
   "nbconvert_exporter": "python",
   "pygments_lexer": "ipython3",
   "version": "3.10.6"
  }
 },
 "nbformat": 4,
 "nbformat_minor": 5
}
