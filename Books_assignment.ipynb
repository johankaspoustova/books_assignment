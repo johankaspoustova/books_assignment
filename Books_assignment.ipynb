{
 "cells": [
  {
   "cell_type": "markdown",
   "id": "1f216fe7",
   "metadata": {},
   "source": [
    "<h1>Books assignment</h1>"
   ]
  },
  {
   "cell_type": "code",
   "execution_count": 1,
   "id": "c6750ad2",
   "metadata": {},
   "outputs": [],
   "source": [
    "import numpy as np \n",
    "import pandas as pd \n",
    "import os"
   ]
  },
  {
   "cell_type": "code",
   "execution_count": 58,
   "id": "17c95fbd",
   "metadata": {
    "scrolled": true
   },
   "outputs": [
    {
     "data": {
      "text/html": [
       "<div>\n",
       "<style scoped>\n",
       "    .dataframe tbody tr th:only-of-type {\n",
       "        vertical-align: middle;\n",
       "    }\n",
       "\n",
       "    .dataframe tbody tr th {\n",
       "        vertical-align: top;\n",
       "    }\n",
       "\n",
       "    .dataframe thead th {\n",
       "        text-align: right;\n",
       "    }\n",
       "</style>\n",
       "<table border=\"1\" class=\"dataframe\">\n",
       "  <thead>\n",
       "    <tr style=\"text-align: right;\">\n",
       "      <th></th>\n",
       "      <th>User-ID</th>\n",
       "      <th>ISBN</th>\n",
       "      <th>Book-Rating</th>\n",
       "    </tr>\n",
       "  </thead>\n",
       "  <tbody>\n",
       "    <tr>\n",
       "      <th>0</th>\n",
       "      <td>276725</td>\n",
       "      <td>034545104</td>\n",
       "      <td>0</td>\n",
       "    </tr>\n",
       "    <tr>\n",
       "      <th>1</th>\n",
       "      <td>276726</td>\n",
       "      <td>0155061224</td>\n",
       "      <td>5</td>\n",
       "    </tr>\n",
       "    <tr>\n",
       "      <th>2</th>\n",
       "      <td>276727</td>\n",
       "      <td>0446520802</td>\n",
       "      <td>0</td>\n",
       "    </tr>\n",
       "    <tr>\n",
       "      <th>3</th>\n",
       "      <td>276729</td>\n",
       "      <td>052165615</td>\n",
       "      <td>3</td>\n",
       "    </tr>\n",
       "    <tr>\n",
       "      <th>4</th>\n",
       "      <td>276729</td>\n",
       "      <td>0521795028</td>\n",
       "      <td>6</td>\n",
       "    </tr>\n",
       "  </tbody>\n",
       "</table>\n",
       "</div>"
      ],
      "text/plain": [
       "   User-ID        ISBN  Book-Rating\n",
       "0   276725   034545104            0\n",
       "1   276726  0155061224            5\n",
       "2   276727  0446520802            0\n",
       "3   276729   052165615            3\n",
       "4   276729  0521795028            6"
      ]
     },
     "execution_count": 58,
     "metadata": {},
     "output_type": "execute_result"
    }
   ],
   "source": [
    "path_ratings=\"~/ukol/BX-Book-Ratings.csv\"\n",
    "df_ratings=pd.read_csv(path_ratings, on_bad_lines=\"warn\", delimiter=\";\", encoding = \"ISO-8859-1\")\n",
    "df_ratings.dropna()\n",
    "df_ratings['ISBN'] = df_ratings['ISBN'].str.replace('[^\\d]', '', regex=True)  # ISBN mess\n",
    "df_ratings.head(5)"
   ]
  },
  {
   "cell_type": "code",
   "execution_count": 166,
   "id": "bdb08223",
   "metadata": {},
   "outputs": [],
   "source": [
    "#df_ratings.describe()\n",
    "#df_ratings.shape\n",
    "#df_ratings.info()\n",
    "#df_ratings.dtypes"
   ]
  },
  {
   "cell_type": "code",
   "execution_count": 165,
   "id": "51766265",
   "metadata": {},
   "outputs": [
    {
     "data": {
      "text/html": [
       "<div>\n",
       "<style scoped>\n",
       "    .dataframe tbody tr th:only-of-type {\n",
       "        vertical-align: middle;\n",
       "    }\n",
       "\n",
       "    .dataframe tbody tr th {\n",
       "        vertical-align: top;\n",
       "    }\n",
       "\n",
       "    .dataframe thead th {\n",
       "        text-align: right;\n",
       "    }\n",
       "</style>\n",
       "<table border=\"1\" class=\"dataframe\">\n",
       "  <thead>\n",
       "    <tr style=\"text-align: right;\">\n",
       "      <th></th>\n",
       "      <th>ISBN</th>\n",
       "      <th>Book-Title</th>\n",
       "      <th>Book-Author</th>\n",
       "    </tr>\n",
       "  </thead>\n",
       "  <tbody>\n",
       "    <tr>\n",
       "      <th>0</th>\n",
       "      <td>0195153448</td>\n",
       "      <td>Classical Mythology</td>\n",
       "      <td>Mark P. O. Morford</td>\n",
       "    </tr>\n",
       "    <tr>\n",
       "      <th>1</th>\n",
       "      <td>0002005018</td>\n",
       "      <td>Clara Callan</td>\n",
       "      <td>Richard Bruce Wright</td>\n",
       "    </tr>\n",
       "    <tr>\n",
       "      <th>2</th>\n",
       "      <td>0060973129</td>\n",
       "      <td>Decision in Normandy</td>\n",
       "      <td>Carlo D'Este</td>\n",
       "    </tr>\n",
       "    <tr>\n",
       "      <th>3</th>\n",
       "      <td>0374157065</td>\n",
       "      <td>Flu: The Story of the Great Influenza Pandemic...</td>\n",
       "      <td>Gina Bari Kolata</td>\n",
       "    </tr>\n",
       "    <tr>\n",
       "      <th>4</th>\n",
       "      <td>0393045218</td>\n",
       "      <td>The Mummies of Urumchi</td>\n",
       "      <td>E. J. W. Barber</td>\n",
       "    </tr>\n",
       "  </tbody>\n",
       "</table>\n",
       "</div>"
      ],
      "text/plain": [
       "         ISBN                                         Book-Title  \\\n",
       "0  0195153448                                Classical Mythology   \n",
       "1  0002005018                                       Clara Callan   \n",
       "2  0060973129                               Decision in Normandy   \n",
       "3  0374157065  Flu: The Story of the Great Influenza Pandemic...   \n",
       "4  0393045218                             The Mummies of Urumchi   \n",
       "\n",
       "            Book-Author  \n",
       "0    Mark P. O. Morford  \n",
       "1  Richard Bruce Wright  \n",
       "2          Carlo D'Este  \n",
       "3      Gina Bari Kolata  \n",
       "4       E. J. W. Barber  "
      ]
     },
     "execution_count": 165,
     "metadata": {},
     "output_type": "execute_result"
    }
   ],
   "source": [
    "path_books=\"~/ukol/BX-Books.csv\"\n",
    "df_books=pd.read_csv(path_books, on_bad_lines=\"skip\", delimiter=\";\", encoding = \"ISO-8859-1\", dtype={\"ISBN\": \"string\", \"Year-Of-Publication\": \"string\"})\n",
    "df_books.dropna()\n",
    "df_books['ISBN'] = df_books['ISBN'].str.replace('[^\\d]', '', regex=True)\n",
    "df_books = df_books.drop_duplicates(subset='ISBN')\n",
    "df_books_shorter = df_books.drop(['Publisher','Image-URL-S','Image-URL-M','Image-URL-L','Year-Of-Publication'],axis=1)\n",
    "df_books_shorter.head(5)"
   ]
  },
  {
   "cell_type": "code",
   "execution_count": 92,
   "id": "0e6eb133",
   "metadata": {},
   "outputs": [],
   "source": [
    "def full_name(isbn):\n",
    "    book_name = df_books_shorter[df_books_shorter['ISBN']==isbn]['Book-Title']\n",
    "    book_author = df_books_shorter[df_books_shorter['ISBN']==isbn]['Book-Author']\n",
    "    if ((book_name.empty) or (book_author.empty)):\n",
    "        return \"\", \"\"\n",
    "    else:\n",
    "        return book_name.iloc[0], book_author.iloc[0]"
   ]
  },
  {
   "cell_type": "code",
   "execution_count": 96,
   "id": "d3a9197a",
   "metadata": {},
   "outputs": [
    {
     "name": "stdout",
     "output_type": "stream",
     "text": [
      "You should read Clara Callan written by Richard Bruce Wright.\n"
     ]
    }
   ],
   "source": [
    "# improvised test\n",
    "bn, ba = full_name(\"0002005018\")\n",
    "# should return Clara Callan, Richard Bruce Wright\n",
    "#bn, ba = full_name(\"bleble\")\n",
    "# should return empty strings\n",
    "if (bn and ba):\n",
    "    print(\"You should read {} written by {}.\".format(bn, ba))\n",
    "\n"
   ]
  },
  {
   "cell_type": "code",
   "execution_count": 85,
   "id": "afa17ac4",
   "metadata": {},
   "outputs": [],
   "source": [
    "df_ratings_mensi = df_ratings.head(50000)\n",
    "df_ratings_mensi = df_ratings_mensi.tail(10000)"
   ]
  },
  {
   "cell_type": "code",
   "execution_count": 147,
   "id": "253e1885",
   "metadata": {},
   "outputs": [],
   "source": [
    "def very_dummy_recommendation(isbn):\n",
    "    min_rating = 7\n",
    "    cetli_to = df_ratings[df_ratings['ISBN']==isbn]\n",
    "    maji_radi = cetli_to.loc[(cetli_to['Book-Rating'] >= min_rating)]\n",
    "    if maji_radi.empty:\n",
    "        print(\"Insufficient data for a reliable recommendation. Your taste is unique.\")\n",
    "    else:\n",
    "        maji_jeste_radi = maji_radi  # hack to preserve the format        \n",
    "        for index, row in df_ratings.iterrows():\n",
    "            for i in range(maji_radi.shape[0]):                \n",
    "                if (row['User-ID'] == maji_radi['User-ID'].iloc[i]):\n",
    "                    #print (\"yes, {}, {}\".format(row['User-ID'],maji_radi['User-ID'].iloc[i]))                  \n",
    "                    row_df = pd.DataFrame([row])\n",
    "                    maji_jeste_radi = pd.concat([maji_jeste_radi, row_df], axis=0, ignore_index=True)\n",
    "        maji_jeste_radi = maji_jeste_radi[maji_jeste_radi['ISBN']!=isbn] #drop the original book from the list\n",
    "        maji_jeste_radi = maji_jeste_radi.drop(['User-ID'],axis=1)       # to ease the grouping\n",
    "        ma_jich_rado_vic = maji_jeste_radi[maji_jeste_radi.groupby('ISBN')['ISBN'].transform('count').ge(2)]\n",
    "                            # to keep only books rated by more than one relevant user\n",
    "        prumery = ma_jich_rado_vic.groupby('ISBN')['Book-Rating'].agg(['mean', 'count']).sort_values(by='mean',ascending=False)\n",
    "        \n",
    "    return prumery"
   ]
  },
  {
   "cell_type": "code",
   "execution_count": 151,
   "id": "26acef89",
   "metadata": {},
   "outputs": [
    {
     "data": {
      "text/html": [
       "<div>\n",
       "<style scoped>\n",
       "    .dataframe tbody tr th:only-of-type {\n",
       "        vertical-align: middle;\n",
       "    }\n",
       "\n",
       "    .dataframe tbody tr th {\n",
       "        vertical-align: top;\n",
       "    }\n",
       "\n",
       "    .dataframe thead th {\n",
       "        text-align: right;\n",
       "    }\n",
       "</style>\n",
       "<table border=\"1\" class=\"dataframe\">\n",
       "  <thead>\n",
       "    <tr style=\"text-align: right;\">\n",
       "      <th></th>\n",
       "      <th>mean</th>\n",
       "      <th>count</th>\n",
       "    </tr>\n",
       "    <tr>\n",
       "      <th>ISBN</th>\n",
       "      <th></th>\n",
       "      <th></th>\n",
       "    </tr>\n",
       "  </thead>\n",
       "  <tbody>\n",
       "    <tr>\n",
       "      <th>0764502611</th>\n",
       "      <td>10.0</td>\n",
       "      <td>2</td>\n",
       "    </tr>\n",
       "    <tr>\n",
       "      <th>043936213</th>\n",
       "      <td>10.0</td>\n",
       "      <td>3</td>\n",
       "    </tr>\n",
       "    <tr>\n",
       "      <th>0345295684</th>\n",
       "      <td>10.0</td>\n",
       "      <td>2</td>\n",
       "    </tr>\n",
       "    <tr>\n",
       "      <th>0762409533</th>\n",
       "      <td>10.0</td>\n",
       "      <td>2</td>\n",
       "    </tr>\n",
       "    <tr>\n",
       "      <th>0671705091</th>\n",
       "      <td>10.0</td>\n",
       "      <td>2</td>\n",
       "    </tr>\n",
       "    <tr>\n",
       "      <th>...</th>\n",
       "      <td>...</td>\n",
       "      <td>...</td>\n",
       "    </tr>\n",
       "    <tr>\n",
       "      <th>0553580051</th>\n",
       "      <td>0.0</td>\n",
       "      <td>2</td>\n",
       "    </tr>\n",
       "    <tr>\n",
       "      <th>0425116840</th>\n",
       "      <td>0.0</td>\n",
       "      <td>2</td>\n",
       "    </tr>\n",
       "    <tr>\n",
       "      <th>0553580221</th>\n",
       "      <td>0.0</td>\n",
       "      <td>2</td>\n",
       "    </tr>\n",
       "    <tr>\n",
       "      <th>0553580388</th>\n",
       "      <td>0.0</td>\n",
       "      <td>2</td>\n",
       "    </tr>\n",
       "    <tr>\n",
       "      <th>044661064</th>\n",
       "      <td>0.0</td>\n",
       "      <td>2</td>\n",
       "    </tr>\n",
       "  </tbody>\n",
       "</table>\n",
       "<p>1997 rows × 2 columns</p>\n",
       "</div>"
      ],
      "text/plain": [
       "            mean  count\n",
       "ISBN                   \n",
       "0764502611  10.0      2\n",
       "043936213   10.0      3\n",
       "0345295684  10.0      2\n",
       "0762409533  10.0      2\n",
       "0671705091  10.0      2\n",
       "...          ...    ...\n",
       "0553580051   0.0      2\n",
       "0425116840   0.0      2\n",
       "0553580221   0.0      2\n",
       "0553580388   0.0      2\n",
       "044661064    0.0      2\n",
       "\n",
       "[1997 rows x 2 columns]"
      ]
     },
     "execution_count": 151,
     "metadata": {},
     "output_type": "execute_result"
    }
   ],
   "source": [
    "favourite_isbn = \"0345339703\"  #\"The Fellowship of the Ring (The Lord of the Rings, Part 1)\"\n",
    "                               # loooong computing!\n",
    "poradi = very_dummy_recommendation(favourite_isbn)\n",
    "poradi\n"
   ]
  },
  {
   "cell_type": "code",
   "execution_count": 156,
   "id": "33702f24",
   "metadata": {},
   "outputs": [
    {
     "name": "stdout",
     "output_type": "stream",
     "text": [
      "You should read Windows 98 for Dummies written by Andy  Rathbone (avg. rating 10.0).\n",
      "You should read Harry Potter and the Sorcerer's Stone (Book 1) written by J. K. Rowling (avg. rating 10.0).\n",
      "You should read Dragonflight written by Anne Mccaffrey (avg. rating 10.0).\n",
      "You should read TOLKIEN MAGNETIC POSTCARDS(tm) 12 Full-color Magnetic Postcards to Send or Save written by Brothers Hildebrandt (avg. rating 10.0).\n",
      "You should read A Knight in Shining Armor written by Jude Deveraux (avg. rating 10.0).\n",
      "You should read The Official Scrabble Players Dictionary (Third Edition) written by Merriam-Webster (avg. rating 10.0).\n",
      "You should read On Writing written by Stephen King (avg. rating 10.0).\n",
      "You should read The Lion, the Witch and the Wardrobe (The Chronicles of Narnia) written by C. S. Lewis (avg. rating 10.0).\n",
      "You should read Doomsday Book written by Connie Willis (avg. rating 10.0).\n",
      "You should read Conceived Without Sin written by Bud Macfarlane Jr. (avg. rating 10.0).\n",
      "You should read New and Selected Poems written by Mary Oliver (avg. rating 10.0).\n",
      "You should read Anne of Windy Poplars (Anne of Green Gables Novels (Paperback)) written by L.M. MONTGOMERY (avg. rating 10.0).\n",
      "You should read Harry Potter and the Chamber of Secrets (Book 2) written by J. K. Rowling (avg. rating 9.75).\n",
      "You should read DIANA HER TRUE STORY COMMEMORATIVE EDITION written by Andrew Morton (avg. rating 9.666666666666666).\n",
      "You should read Circle of Friends written by Maeve Binchy (avg. rating 9.666666666666666).\n",
      "You should read Single White Vampire written by Lynsay Sands (avg. rating 9.5).\n",
      "You should read Griffin &amp; Sabine: An Extraordinary Correspondence written by Nick Bantock (avg. rating 9.5).\n",
      "You should read The Twilight Before Christmas written by Christine Feehan (avg. rating 9.5).\n",
      "You should read That Camden Summer written by Lavyrle Spencer (avg. rating 9.5).\n",
      "You should read Night Shift written by Stephen King (avg. rating 9.5).\n"
     ]
    }
   ],
   "source": [
    "max_recommendations = 20  # or 10, or...\n",
    "reasonable_rating = 7\n",
    "i = 0\n",
    "for index, row in poradi.iterrows():\n",
    "    if ((row[0] > reasonable_rating) and (i < max_recommendations)):\n",
    "        bname, bauthor = full_name(index)\n",
    "        if (bname and bauthor):            \n",
    "            print(\"You should read {} written by {} (avg. rating {}).\".format(bname, bauthor, row[0]))\n",
    "            i+=1\n"
   ]
  },
  {
   "cell_type": "code",
   "execution_count": 164,
   "id": "0451180a",
   "metadata": {},
   "outputs": [],
   "source": [
    "path_ratings=\"~/ukol/recommendations_\" + favourite_isbn\n",
    "poradi.to_csv(path_ratings)"
   ]
  },
  {
   "cell_type": "code",
   "execution_count": null,
   "id": "c29f85aa",
   "metadata": {},
   "outputs": [],
   "source": []
  }
 ],
 "metadata": {
  "kernelspec": {
   "display_name": "Python 3 (ipykernel)",
   "language": "python",
   "name": "python3"
  },
  "language_info": {
   "codemirror_mode": {
    "name": "ipython",
    "version": 3
   },
   "file_extension": ".py",
   "mimetype": "text/x-python",
   "name": "python",
   "nbconvert_exporter": "python",
   "pygments_lexer": "ipython3",
   "version": "3.10.6"
  }
 },
 "nbformat": 4,
 "nbformat_minor": 5
}
